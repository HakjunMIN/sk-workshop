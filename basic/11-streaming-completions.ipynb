{
 "cells": [
  {
   "attachments": {},
   "cell_type": "markdown",
   "id": "68e1c158",
   "metadata": {},
   "source": [
    "# Streaming Results\n",
    "\n",
    "Here is an example pattern if you want to stream your multiple results. Note that this is not supported for Hugging Face text completions at this time.\n"
   ]
  },
  {
   "cell_type": "markdown",
   "id": "fd94029f",
   "metadata": {},
   "source": [
    "Initial configuration for the notebook to run properly."
   ]
  },
  {
   "cell_type": "code",
   "execution_count": 6,
   "id": "7547e59b",
   "metadata": {},
   "outputs": [],
   "source": [
    "# Make sure paths are correct for the imports\n",
    "\n",
    "import os\n",
    "import sys\n",
    "\n",
    "notebook_dir = os.path.abspath(\"\")\n",
    "parent_dir = os.path.dirname(notebook_dir)\n",
    "grandparent_dir = os.path.dirname(parent_dir)\n",
    "\n",
    "\n",
    "sys.path.append(grandparent_dir)"
   ]
  },
  {
   "cell_type": "markdown",
   "id": "fd931c14",
   "metadata": {},
   "source": [
    "We will load our settings and get the LLM service to use for the notebook."
   ]
  },
  {
   "cell_type": "code",
   "execution_count": 7,
   "id": "a9a5c87a",
   "metadata": {},
   "outputs": [
    {
     "name": "stdout",
     "output_type": "stream",
     "text": [
      "Using service type: Service.AzureOpenAI\n"
     ]
    }
   ],
   "source": [
    "from services import Service\n",
    "\n",
    "from service_settings import ServiceSettings\n",
    "\n",
    "service_settings = ServiceSettings.create()\n",
    "\n",
    "# Select a service to use for this notebook (available services: OpenAI, AzureOpenAI, HuggingFace)\n",
    "selectedService = (\n",
    "    Service.AzureOpenAI\n",
    "    if service_settings.global_llm_service is None\n",
    "    else Service(service_settings.global_llm_service.lower())\n",
    ")\n",
    "print(f\"Using service type: {selectedService}\")"
   ]
  },
  {
   "attachments": {},
   "cell_type": "markdown",
   "id": "d8ddffc1",
   "metadata": {},
   "source": [
    "First, we will set up the text and chat services we will be submitting prompts to.\n"
   ]
  },
  {
   "cell_type": "code",
   "execution_count": 8,
   "id": "8f8dcbc6",
   "metadata": {},
   "outputs": [],
   "source": [
    "from semantic_kernel import Kernel\n",
    "from semantic_kernel.connectors.ai.open_ai import (\n",
    "    AzureChatCompletion,\n",
    "    AzureChatPromptExecutionSettings,  # noqa: F401\n",
    "    AzureTextCompletion,\n",
    "    OpenAIChatCompletion,\n",
    "    OpenAIChatPromptExecutionSettings,  # noqa: F401\n",
    "    OpenAITextCompletion,\n",
    "    OpenAITextPromptExecutionSettings,  # noqa: F401\n",
    ")\n",
    "from semantic_kernel.contents import ChatHistory  # noqa: F401\n",
    "\n",
    "kernel = Kernel()\n",
    "\n",
    "service_id = None\n",
    "if selectedService == Service.OpenAI:\n",
    "    from semantic_kernel.connectors.ai.open_ai import OpenAIChatCompletion\n",
    "\n",
    "    service_id = \"default\"\n",
    "    oai_chat_service = OpenAIChatCompletion(\n",
    "        service_id=\"oai_chat\",\n",
    "        env_file_path=\"../.env\",\n",
    "    )\n",
    "elif selectedService == Service.AzureOpenAI:\n",
    "    from semantic_kernel.connectors.ai.open_ai import AzureChatCompletion\n",
    "\n",
    "    service_id = \"default\"\n",
    "    aoai_chat_service = AzureChatCompletion(\n",
    "        service_id=\"aoai_chat\",\n",
    "        env_file_path=\"../.env\",\n",
    "    )\n"
   ]
  },
  {
   "attachments": {},
   "cell_type": "markdown",
   "id": "50561d82",
   "metadata": {},
   "source": [
    "Next, we'll set up the completion request settings for text completion services.\n"
   ]
  },
  {
   "cell_type": "code",
   "execution_count": 9,
   "id": "781dfc9b",
   "metadata": {},
   "outputs": [],
   "source": [
    "oai_prompt_execution_settings = OpenAITextPromptExecutionSettings(\n",
    "    service_id=\"oai_text\",\n",
    "    max_tokens=150,\n",
    "    temperature=0.7,\n",
    "    top_p=1,\n",
    "    frequency_penalty=0.5,\n",
    "    presence_penalty=0.5,\n",
    ")"
   ]
  },
  {
   "attachments": {},
   "cell_type": "markdown",
   "id": "da632e12",
   "metadata": {},
   "source": [
    "Here, we're setting up the settings for Chat completions.\n"
   ]
  },
  {
   "cell_type": "code",
   "execution_count": 10,
   "id": "e5f11e46",
   "metadata": {},
   "outputs": [],
   "source": [
    "oai_chat_prompt_execution_settings = OpenAIChatPromptExecutionSettings(\n",
    "    service_id=\"oai_chat\",\n",
    "    max_tokens=150,\n",
    "    temperature=0.7,\n",
    "    top_p=1,\n",
    "    frequency_penalty=0.5,\n",
    "    presence_penalty=0.5,\n",
    ")"
   ]
  },
  {
   "attachments": {},
   "cell_type": "markdown",
   "id": "cdb8f740",
   "metadata": {},
   "source": [
    "## Streaming Azure OpenAI Chat Completion\n"
   ]
  },
  {
   "cell_type": "code",
   "execution_count": 11,
   "id": "da1e9f59",
   "metadata": {},
   "outputs": [],
   "source": [
    "az_oai_chat_prompt_execution_settings = AzureChatPromptExecutionSettings(\n",
    "    service_id=\"aoai_chat\",\n",
    "    max_tokens=150,\n",
    "    temperature=0.7,\n",
    "    top_p=1,\n",
    "    frequency_penalty=0.5,\n",
    "    presence_penalty=0.5,\n",
    ")"
   ]
  },
  {
   "cell_type": "code",
   "execution_count": 15,
   "id": "b74a64a9",
   "metadata": {},
   "outputs": [
    {
     "name": "stdout",
     "output_type": "stream",
     "text": [
      "러버덕(Rubber Duck)은 주로 장난감으로 사용됩니다. 가장 일반적으로는 어린이들이 목욕 시간을 즐겁게 보내기 위해 목욕 장난감으로 사용됩니다. 또한, 러버덕은 프로그래밍과 소프트웨어 개발 분야에서 \"러버덕 디버깅\"이라는 용어로도 유명합니다. 이 기법에서는 개발자가 자신의 코드를 설명하기 위해 러버덕에게 말하는 것처럼 문제를 풀어내는 과정을 거칩니다. 이를 통해 문제를 더 명확하게 이해하고 해결 방법을 찾는 데 도움을 받을 수 있습니다.\n",
      "\n",
      "러버덕은 상징성과 단순한 디자인 덕분에 다양한 문화적, 예술적"
     ]
    }
   ],
   "source": [
    "if selectedService == Service.AzureOpenAI:\n",
    "    content = \"You are an AI assistant that helps people find information.\"\n",
    "    chat = ChatHistory()\n",
    "    chat.add_system_message(content)\n",
    "    chat.add_user_message(\"러버덕의 용도는 무엇인가요?\")\n",
    "    stream = aoai_chat_service.get_streaming_chat_message_contents(\n",
    "        chat_history=chat, settings=az_oai_chat_prompt_execution_settings\n",
    "    )\n",
    "    async for text in stream:\n",
    "        print(str(text[0]), end=\"\")  # end = \"\" to avoid newlines"
   ]
  }
 ],
 "metadata": {
  "kernelspec": {
   "display_name": ".venv",
   "language": "python",
   "name": "python3"
  },
  "language_info": {
   "codemirror_mode": {
    "name": "ipython",
    "version": 3
   },
   "file_extension": ".py",
   "mimetype": "text/x-python",
   "name": "python",
   "nbconvert_exporter": "python",
   "pygments_lexer": "ipython3",
   "version": "3.11.11"
  }
 },
 "nbformat": 4,
 "nbformat_minor": 5
}

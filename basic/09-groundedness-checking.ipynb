{
 "cells": [
  {
   "cell_type": "markdown",
   "id": "f5c76c5f",
   "metadata": {},
   "source": [
    "# Groundedness Checking Plugins\n",
    "\n",
    "For the proper configuration settings and setup, please follow the steps outlined at the beginning of the [first](./00-getting-started.ipynb) getting started notebook.\n",
    "\n",
    "A well-known problem with large language models (LLMs) is that they make things up. These are sometimes called 'hallucinations' but a safer (and less anthropomorphic) term is 'ungrounded addition' - something in the text which cannot be firmly established. When attempting to establish whether or not something in an LLM response is 'true' we can either check for it in the supplied prompt (this is called 'narrow grounding') or use our general knowledge ('broad grounding'). Note that narrow grounding can lead to things being classified as 'true, but ungrounded.' For example \"I live in Switzerland\" is **not** _narrowly_ grounded in \"I live in Geneva\" even though it must be true (it **is** _broadly_ grounded).\n",
    "\n",
    "In this notebook we run a simple grounding pipeline, to see if a summary text has any ungrounded additions as compared to the original, and use this information to improve the summary text. This can be done in three stages:\n",
    "\n",
    "1. Make a list of the entities in the summary text\n",
    "1. Check to see if these entities appear in the original (grounding) text\n",
    "1. Remove the ungrounded entities from the summary text\n",
    "\n",
    "What is an 'entity' in this context? In its simplest form, it's a named object such as a person or place (so 'Dean' or 'Seattle'). However, the idea could be a _claim_ which relates concepts (such as 'Dean lives near Seattle'). In this notebook, we will keep to the simpler case of named objects.\n"
   ]
  },
  {
   "cell_type": "markdown",
   "id": "93e86ea5",
   "metadata": {},
   "source": [
    "Initial configuration for the notebook to run properly."
   ]
  },
  {
   "cell_type": "code",
   "execution_count": 1,
   "id": "47a5560b",
   "metadata": {},
   "outputs": [],
   "source": [
    "# Make sure paths are correct for the imports\n",
    "\n",
    "import os\n",
    "import sys\n",
    "\n",
    "notebook_dir = os.path.abspath(\"\")\n",
    "parent_dir = os.path.dirname(notebook_dir)\n",
    "grandparent_dir = os.path.dirname(parent_dir)\n",
    "\n",
    "\n",
    "sys.path.append(grandparent_dir)"
   ]
  },
  {
   "cell_type": "markdown",
   "id": "fadcfde4",
   "metadata": {},
   "source": [
    "Let us define our grounding text:"
   ]
  },
  {
   "cell_type": "code",
   "execution_count": 2,
   "id": "23b26e2f",
   "metadata": {},
   "outputs": [],
   "source": [
    "grounding_text = \"\"\"저는 태어날 때부터 제네바 사람이고, 제 가족은 그 공화국에서 가장 저명한 가문 중 하나입니다.\n",
    "제 조상들은 오랜 세월 동안 카운슬러와 신디케이터로 활동했고, 제 아버지는 여러 공식적인 자리에서\n",
    "명예와 명성을 얻었죠. 그는 청렴하고 지칠 줄 모르는 관심으로 그를 아는 모든 사람들로부터 존경을 받았습니다.\n",
    "존경받으셨죠. 아버지는 젊은 시절을 국가 업무에 몰두하며 보냈습니다.\n",
    "여러 가지 상황으로 인해 일찍 결혼하지 못했고, 인생의 쇠퇴기에 이르러서야 남편이 되었고\n",
    "한 가정의 아버지가 되었습니다.\n",
    "\n",
    "그의 결혼 생활은 그의 성격을 잘 보여주기 때문에 언급하지 않을 수 없습니다. 그의\n",
    "가장 친밀한 친구 중 한 명은 번영을 누리다가 수많은 불운을 겪으며 가난에 빠진 상인이었습니다.\n",
    "보퍼트라는 이름의 이 사람은 교만하고 거침없는 성품으로 가난하게 사는 걸 견디지 못했습니다.\n",
    "가난과 망각 속에서 사는 것을 견디지 못했습니다. 과거에는 높은 지위와 위엄으로 유명했던 나라에서 말이죠. 따라서\n",
    "가장 명예로운 방식으로 빚을 갚은 그는 딸과 함께 루체른 마을로 후퇴했습니다,\n",
    "그곳에서 그는 무명의 비참한 삶을 살았습니다. 아버지는 보포트를 진정한 우정으로 사랑했고, 그가 이런 곳에서 후퇴하는 것을\n",
    "이 불행한 상황에 처한 그의 후퇴를 깊이 슬퍼했습니다. 아버지는 친구의 잘못된 자존심 때문에\n",
    "두 사람을 하나로 묶어준 애정에 걸맞지 않은 행동을 한 친구를 비통해했습니다. 그는 그를 찾으려는 노력에 시간을 낭비하지 않았습니다,\n",
    "그의 신용과 도움을 통해 세상을 다시 시작하도록 설득하기 위해서였습니다.\n",
    "\n",
    "보퍼트는 자신을 감추기 위해 효과적인 조치를 취했고, 아버지가 그의 거처를 발견하기까지 10개월이 걸렸습니다.\n",
    "거처를 발견하기까지 10개월이 걸렸습니다. 이 발견에 기뻐하며 아버지는 서둘러 로이스 강변에 있는 그 집으로 향했습니다.\n",
    "하지만 집에 들어서자 비참함과 절망만이 그를 맞이했습니다. 보퍼트는 재산의 파탄으로 인해\n",
    "그의 재산의 난파, 그러나 몇 달 동안 생계를 유지하기에 충분했고 그 동안 그는\n",
    "그는 상인의 집에서 존경할만한 일자리를 얻기를 희망했습니다. 결과적으로 그 간격은 다음과 같이 보냈습니다.\n",
    "그의 슬픔은 사색할 여유가 생겼을 때 더욱 깊어지고 고조되었다.\n",
    "그의 마음을 너무 빨리 붙잡아 세 달이 끝날 무렵 그는 병상에 누워 어떤 노력도 할 수 없었습니다.\n",
    "\n",
    "그의 딸은 가장 큰 부드러움으로 그를 돌 보았지만 그녀는 절망으로 그들의 작은 기금이\n",
    "급속히 줄어들고 있고 다른 지원의 전망도 없다는 것을 절망적으로 보았습니다. 그러나 캐롤라인 보퍼트는 흔치 않은 마음의 소유자였습니다.\n",
    "용기를 내어 역경 속에서 그녀를 지탱해 주었습니다. 그녀는 평범한 일을 구하고 짚을 엮고\n",
    "그리고 여러 가지 방법을 동원해 겨우 생활에 필요한 약간의 돈을 벌기 위해 노력했습니다.\n",
    "\n",
    "이런 식으로 몇 달이 지났습니다. 그녀의 아버지는 점점 더 나빠졌고, 그녀의 시간은 온통 아버지를 돌보는 데만 쓰였다;\n",
    "그녀의 생계 수단은 감소했습니다. 그리고 열 번째 달에 그녀의 아버지는 그녀의 품에서 죽었고 그녀는 고아가되었고\n",
    "거지. 이 마지막 타격은 그녀를 극복했고, 그녀는 아버지가 들어 왔을 때 보 포터의 관 옆에 무릎을 꿇고 몹시 울었습니다.\n",
    "방에 들어갔다. 그는 자신을 돌보는 데 헌신 한 불쌍한 소녀를 보호하는 정신처럼 왔습니다.\n",
    "친구의 장례식이 끝난 후 그는 그녀를 제네바로 데려가 친척의 보호 아래 두었습니다. 2년\n",
    "이 사건 이후 캐롤라인은 그의 아내가 되었습니다.\"\"\""
   ]
  },
  {
   "cell_type": "markdown",
   "id": "4fd80b62",
   "metadata": {},
   "source": [
    "We will load our settings and get the LLM service to use for the notebook."
   ]
  },
  {
   "cell_type": "code",
   "execution_count": 3,
   "id": "c2d4f01f",
   "metadata": {},
   "outputs": [
    {
     "name": "stdout",
     "output_type": "stream",
     "text": [
      "Using service type: Service.AzureOpenAI\n"
     ]
    }
   ],
   "source": [
    "from services import Service\n",
    "\n",
    "from service_settings import ServiceSettings\n",
    "\n",
    "service_settings = ServiceSettings.create()\n",
    "\n",
    "# Select a service to use for this notebook (available services: OpenAI, AzureOpenAI, HuggingFace)\n",
    "selectedService = (\n",
    "    Service.AzureOpenAI\n",
    "    if service_settings.global_llm_service is None\n",
    "    else Service(service_settings.global_llm_service.lower())\n",
    ")\n",
    "print(f\"Using service type: {selectedService}\")"
   ]
  },
  {
   "cell_type": "markdown",
   "id": "723087dc",
   "metadata": {},
   "source": [
    "We now configure our Chat Completion service on the kernel."
   ]
  },
  {
   "cell_type": "code",
   "execution_count": 4,
   "id": "e13d3519",
   "metadata": {},
   "outputs": [],
   "source": [
    "from semantic_kernel import Kernel\n",
    "from semantic_kernel.connectors.ai.open_ai import AzureChatCompletion, OpenAIChatCompletion\n",
    "\n",
    "kernel = Kernel()\n",
    "\n",
    "service_id = None\n",
    "if selectedService == Service.OpenAI:\n",
    "    from semantic_kernel.connectors.ai.open_ai import OpenAIChatCompletion\n",
    "\n",
    "    service_id = \"default\"\n",
    "    kernel.add_service(\n",
    "        OpenAIChatCompletion(\n",
    "            service_id=service_id,\n",
    "            env_file_path=\"../.env\",\n",
    "        ),\n",
    "    )\n",
    "elif selectedService == Service.AzureOpenAI:\n",
    "    from semantic_kernel.connectors.ai.open_ai import AzureChatCompletion\n",
    "\n",
    "    service_id = \"default\"\n",
    "    kernel.add_service(\n",
    "        AzureChatCompletion(\n",
    "            service_id=service_id,\n",
    "            env_file_path=\"../.env\",\n",
    "        ),\n",
    "    )"
   ]
  },
  {
   "cell_type": "markdown",
   "id": "0c65f786",
   "metadata": {},
   "source": [
    "## Import the Plugins\n",
    "\n",
    "We are going to be using the grounding plugin, to check its quality, and remove ungrounded additions:\n"
   ]
  },
  {
   "cell_type": "code",
   "execution_count": 6,
   "id": "56ed7688",
   "metadata": {},
   "outputs": [],
   "source": [
    "# note: using plugins from the samples folder\n",
    "plugins_directory = \"../prompt_template_samples/\"\n",
    "\n",
    "groundingSemanticFunctions = kernel.add_plugin(parent_directory=plugins_directory, plugin_name=\"GroundingPlugin\")"
   ]
  },
  {
   "cell_type": "markdown",
   "id": "0d087993",
   "metadata": {},
   "source": [
    "We can also extract the individual semantic functions for our use:\n"
   ]
  },
  {
   "cell_type": "code",
   "execution_count": 7,
   "id": "738eb0ec",
   "metadata": {},
   "outputs": [],
   "source": [
    "entity_extraction = groundingSemanticFunctions[\"ExtractEntities\"]\n",
    "reference_check = groundingSemanticFunctions[\"ReferenceCheckEntities\"]\n",
    "entity_excision = groundingSemanticFunctions[\"ExciseEntities\"]"
   ]
  },
  {
   "cell_type": "markdown",
   "id": "e5bda16e",
   "metadata": {},
   "source": [
    "## Calling Individual Semantic Functions\n",
    "\n",
    "We will start by calling the individual grounding functions in turn, to show their use. For this we need to create a same summary text:\n"
   ]
  },
  {
   "cell_type": "code",
   "execution_count": 8,
   "id": "c9a872f6",
   "metadata": {},
   "outputs": [
    {
     "name": "stdout",
     "output_type": "stream",
     "text": [
      " 밀라노의 존경받는 거주자였던 아버지는 보퍼트라는 상인의 절친한 친구였는데, 일련의 불행 끝에 가난하게 취리히로 이주했습니다. 아버지는 친구의 어려움에 화가 나 그를 찾아갔습니다, 비열한 거리에서 그를 발견했죠. 보포트는 소액의 돈을 모았지만 그와 그의 딸 메리를 부양하기에는 충분하지 않았습니다. 그의 딸 메리. 메리는 생계를 유지하기 위해 일을 구했지만 10개월 만에 아버지가 돌아가시고 그녀는 거지가되었습니다. 아버지가 그녀를 도와주었고 2년 후 두 사람은 로마를 방문해 결혼했습니다. \n"
     ]
    }
   ],
   "source": [
    "summary_text = \"\"\"\n",
    "밀라노의 존경받는 거주자였던 아버지는 보퍼트라는 상인의 절친한 친구였는데, 일련의 불행 끝에\n",
    "가난하게 취리히로 이주했습니다. 아버지는 친구의 어려움에 화가 나 그를 찾아갔습니다,\n",
    "비열한 거리에서 그를 발견했죠. 보포트는 소액의 돈을 모았지만 그와 그의 딸 메리를 부양하기에는 충분하지 않았습니다.\n",
    "그의 딸 메리. 메리는 생계를 유지하기 위해 일을 구했지만 10개월 만에 아버지가 돌아가시고\n",
    "그녀는 거지가되었습니다. 아버지가 그녀를 도와주었고 2년 후 두 사람은 로마를 방문해 결혼했습니다.\n",
    "\"\"\"\n",
    "\n",
    "summary_text = summary_text.replace(\"\\n\", \" \").replace(\"  \", \" \")\n",
    "print(summary_text)"
   ]
  },
  {
   "cell_type": "markdown",
   "id": "2a41eccb",
   "metadata": {},
   "source": [
    "Some things to note:\n",
    "\n",
    "- The implied residence of Geneva has been changed to Milan\n",
    "- Lucerne has been changed to Zurich\n",
    "- Caroline has been renamed as Mary\n",
    "- A reference to Rome has been added\n",
    "\n",
    "The grounding plugin has three stages:\n",
    "\n",
    "1. Extract entities from a summary text\n",
    "2. Perform a reference check against the grounding text\n",
    "3. Excise any entities which failed the reference check from the summary\n",
    "\n",
    "Now, let us start calling individual semantic functions.\n"
   ]
  },
  {
   "cell_type": "markdown",
   "id": "071c05e4",
   "metadata": {},
   "source": [
    "### Extracting the Entities\n",
    "\n",
    "The first function we need is entity extraction. We are going to take our summary text, and get a list of entities found within it. For this we use `entity_extraction()`:\n"
   ]
  },
  {
   "cell_type": "code",
   "execution_count": 9,
   "id": "c1d4b7ff",
   "metadata": {},
   "outputs": [
    {
     "name": "stdout",
     "output_type": "stream",
     "text": [
      "<entities>\n",
      "- 밀라노 (Milan, a place)\n",
      "- 아버지 (Father, a person)\n",
      "- 보퍼트 (Beaufort, a person)\n",
      "- 취리히 (Zurich, a place)\n",
      "- 메리 (Mary, a person)\n",
      "- 로마 (Rome, a place)\n",
      "</entities>\n"
     ]
    }
   ],
   "source": [
    "extraction_result = await kernel.invoke(\n",
    "    entity_extraction,\n",
    "    input=summary_text,\n",
    "    topic=\"people and places\",\n",
    "    example_entities=\"존, 제인, 어머니, 형제, 파리, 로마\",\n",
    ")\n",
    "\n",
    "print(extraction_result)"
   ]
  },
  {
   "cell_type": "markdown",
   "id": "b93c661f",
   "metadata": {},
   "source": [
    "So we have our list of entities in the summary\n"
   ]
  },
  {
   "cell_type": "markdown",
   "id": "958ad1ff",
   "metadata": {},
   "source": [
    "### Performing the reference check\n",
    "\n",
    "We now use the grounding text to see if the entities we found are grounded. We start by adding the grounding text to our context:\n"
   ]
  },
  {
   "cell_type": "markdown",
   "id": "894e38d7",
   "metadata": {},
   "source": [
    "With this in place, we can run the reference checking function. This will use both the entity list in the input, and the `reference_context` in the context object itself:\n"
   ]
  },
  {
   "cell_type": "code",
   "execution_count": 10,
   "id": "d240d669",
   "metadata": {},
   "outputs": [
    {
     "name": "stdout",
     "output_type": "stream",
     "text": [
      "<ungrounded_entities>\n",
      "- 밀라노 (Milan, a place)\n",
      "- 취리히 (Zurich, a place)\n",
      "- 메리 (Mary, a person)\n",
      "- 로마 (Rome, a place)\n",
      "</ungrounded_entities>\n"
     ]
    }
   ],
   "source": [
    "grounding_result = await kernel.invoke(reference_check, input=extraction_result.value, reference_context=grounding_text)\n",
    "\n",
    "print(grounding_result)"
   ]
  },
  {
   "cell_type": "markdown",
   "id": "9a83c66f",
   "metadata": {},
   "source": [
    "So we now have a list of ungrounded entities (of course, this list may not be well grounded itself). Let us store this in the context:\n"
   ]
  },
  {
   "cell_type": "markdown",
   "id": "35c1c329",
   "metadata": {},
   "source": [
    "### Excising the ungrounded entities\n",
    "\n",
    "Finally we can remove the ungrounded entities from the summary text:\n"
   ]
  },
  {
   "cell_type": "code",
   "execution_count": 11,
   "id": "db82d97d",
   "metadata": {},
   "outputs": [
    {
     "name": "stdout",
     "output_type": "stream",
     "text": [
      "<context>\n",
      "아버지는 보퍼트라는 상인의 절친한 친구였는데, 일련의 불행 끝에 가난하게 이주했습니다. 아버지는 친구의 어려움에 화가 나 그를 찾아갔습니다, 비열한 거리에서 그를 발견했죠. 보포트는 소액의 돈을 모았지만 그와 그의 딸을 부양하기에는 충분하지 않았습니다. 그의 딸. 그녀는 생계를 유지하기 위해 일을 구했지만 10개월 만에 아버지가 돌아가시고 그녀는 거지가되었습니다. 아버지가 그녀를 도와주었고 2년 후 두 사람은 방문해 결혼했습니다.\n",
      "</context>\n"
     ]
    }
   ],
   "source": [
    "excision_result = await kernel.invoke(entity_excision, input=summary_text, ungrounded_entities=grounding_result.value)\n",
    "\n",
    "print(excision_result)"
   ]
  }
 ],
 "metadata": {
  "kernelspec": {
   "display_name": ".venv",
   "language": "python",
   "name": "python3"
  },
  "language_info": {
   "codemirror_mode": {
    "name": "ipython",
    "version": 3
   },
   "file_extension": ".py",
   "mimetype": "text/x-python",
   "name": "python",
   "nbconvert_exporter": "python",
   "pygments_lexer": "ipython3",
   "version": "3.11.11"
  }
 },
 "nbformat": 4,
 "nbformat_minor": 5
}
